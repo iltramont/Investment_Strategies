{
 "cells": [
  {
   "cell_type": "code",
   "execution_count": 13,
   "id": "initial_id",
   "metadata": {
    "collapsed": true,
    "ExecuteTime": {
     "end_time": "2024-04-27T21:52:04.079287Z",
     "start_time": "2024-04-27T21:52:04.011440Z"
    }
   },
   "outputs": [],
   "source": [
    "import numpy as np\n",
    "import pandas as pd\n",
    "import matplotlib.pyplot as plt\n",
    "import yfinance as yf\n",
    "import quantstats_lumi as qs\n",
    "import cvxpy as cv\n",
    "\n",
    "import utils\n",
    "from utils import *\n",
    "from datetime import datetime\n",
    "from double_crossover_strategy import DoubleCrossoverStrategy\n",
    "\n",
    "#plt.style.use(\"fivethirtyeight\")\n",
    "#plt.style.use(\"ggplot\")\n",
    "plt.style.use(\"classic\")\n",
    "figsize = (14, 6)"
   ]
  },
  {
   "cell_type": "code",
   "outputs": [],
   "source": [
    "from strategies import GlobalMinimumVariance"
   ],
   "metadata": {
    "collapsed": false,
    "ExecuteTime": {
     "end_time": "2024-04-27T20:27:02.384627Z",
     "start_time": "2024-04-27T20:27:01.348180Z"
    }
   },
   "id": "417a4ff89af972b4",
   "execution_count": 2
  },
  {
   "cell_type": "code",
   "outputs": [],
   "source": [
    "minimum_variance = GlobalMinimumVariance()"
   ],
   "metadata": {
    "collapsed": false,
    "ExecuteTime": {
     "end_time": "2024-04-27T20:27:02.400729Z",
     "start_time": "2024-04-27T20:27:02.388352Z"
    }
   },
   "id": "dd2bfdfa3ec5b8a1",
   "execution_count": 3
  },
  {
   "cell_type": "code",
   "outputs": [
    {
     "name": "stdout",
     "output_type": "stream",
     "text": [
      "        stock_0  stock_1   stock_2   stock_3   stock_4\n",
      "day_0  0.730936      NaN  0.942346  0.113056  0.190723\n",
      "day_1  0.592016      NaN  0.833422  0.686992  0.083603\n",
      "day_2  0.573546      NaN  0.286108  0.157710  0.870584\n",
      "\n",
      "covariance = \n",
      "          stock_0   stock_2   stock_3   stock_4\n",
      "stock_0  0.007402  0.021421 -0.012831 -0.017776\n",
      "stock_2  0.021421  0.123678  0.032977 -0.144201\n",
      "stock_3 -0.012831  0.032977  0.101923 -0.074610\n",
      "stock_4 -0.017776 -0.144201 -0.074610  0.182171\n"
     ]
    }
   ],
   "source": [
    "shape = (3, 5)\n",
    "x = pd.DataFrame(np.random.rand(shape[0], shape[1]),\n",
    "                 index=[f'day_{i}' for i in range(shape[0])],\n",
    "                 columns=[f'stock_{i}' for i in range(shape[1])])\n",
    "x.iloc[:, 1] = np.nan\n",
    "print(x)\n",
    "covariance = x.dropna(axis=1).cov()\n",
    "print(f'\\ncovariance = ')\n",
    "print(covariance)"
   ],
   "metadata": {
    "collapsed": false,
    "ExecuteTime": {
     "end_time": "2024-04-27T20:29:59.398644Z",
     "start_time": "2024-04-27T20:29:59.379302Z"
    }
   },
   "id": "c3547f249e93ed16",
   "execution_count": 11
  },
  {
   "cell_type": "code",
   "outputs": [
    {
     "data": {
      "text/plain": "stock_0    0.275892\nstock_2    0.254734\nstock_3    0.170842\nstock_4    0.298532\ndtype: float64"
     },
     "execution_count": 12,
     "metadata": {},
     "output_type": "execute_result"
    }
   ],
   "source": [
    "minimum_variance.compute_weights(covariance)"
   ],
   "metadata": {
    "collapsed": false,
    "ExecuteTime": {
     "end_time": "2024-04-27T20:30:07.116760Z",
     "start_time": "2024-04-27T20:30:07.093596Z"
    }
   },
   "id": "93645b4b8992cd69",
   "execution_count": 12
  },
  {
   "cell_type": "code",
   "outputs": [
    {
     "data": {
      "text/plain": "stock_0    0.065065\nstock_1    0.234493\nstock_2    0.277118\nstock_3    0.232100\nstock_4    0.166024\ndtype: float64"
     },
     "execution_count": 6,
     "metadata": {},
     "output_type": "execute_result"
    }
   ],
   "source": [
    "x.std()"
   ],
   "metadata": {
    "collapsed": false,
    "ExecuteTime": {
     "end_time": "2024-04-26T13:54:46.868861Z",
     "start_time": "2024-04-26T13:54:46.846099Z"
    }
   },
   "id": "5659ef8458cfdae7",
   "execution_count": 6
  },
  {
   "cell_type": "code",
   "outputs": [
    {
     "data": {
      "text/plain": "          0         1         2         3         4\n0  0.002453  0.007859  0.002924  0.008691 -0.008974\n1  0.007859  0.041503  0.002054  0.050707 -0.000747\n2  0.002924  0.002054  0.006760  0.000116 -0.023240\n3  0.008691  0.050707  0.000116  0.062812  0.007427\n4 -0.008974 -0.000747 -0.023240  0.007427  0.080870",
      "text/html": "<div>\n<style scoped>\n    .dataframe tbody tr th:only-of-type {\n        vertical-align: middle;\n    }\n\n    .dataframe tbody tr th {\n        vertical-align: top;\n    }\n\n    .dataframe thead th {\n        text-align: right;\n    }\n</style>\n<table border=\"1\" class=\"dataframe\">\n  <thead>\n    <tr style=\"text-align: right;\">\n      <th></th>\n      <th>0</th>\n      <th>1</th>\n      <th>2</th>\n      <th>3</th>\n      <th>4</th>\n    </tr>\n  </thead>\n  <tbody>\n    <tr>\n      <th>0</th>\n      <td>0.002453</td>\n      <td>0.007859</td>\n      <td>0.002924</td>\n      <td>0.008691</td>\n      <td>-0.008974</td>\n    </tr>\n    <tr>\n      <th>1</th>\n      <td>0.007859</td>\n      <td>0.041503</td>\n      <td>0.002054</td>\n      <td>0.050707</td>\n      <td>-0.000747</td>\n    </tr>\n    <tr>\n      <th>2</th>\n      <td>0.002924</td>\n      <td>0.002054</td>\n      <td>0.006760</td>\n      <td>0.000116</td>\n      <td>-0.023240</td>\n    </tr>\n    <tr>\n      <th>3</th>\n      <td>0.008691</td>\n      <td>0.050707</td>\n      <td>0.000116</td>\n      <td>0.062812</td>\n      <td>0.007427</td>\n    </tr>\n    <tr>\n      <th>4</th>\n      <td>-0.008974</td>\n      <td>-0.000747</td>\n      <td>-0.023240</td>\n      <td>0.007427</td>\n      <td>0.080870</td>\n    </tr>\n  </tbody>\n</table>\n</div>"
     },
     "execution_count": 31,
     "metadata": {},
     "output_type": "execute_result"
    }
   ],
   "source": [
    "x.cov()"
   ],
   "metadata": {
    "collapsed": false,
    "ExecuteTime": {
     "end_time": "2024-04-26T12:15:36.217590Z",
     "start_time": "2024-04-26T12:15:36.197866Z"
    }
   },
   "id": "7e73f5bb61c6bfe0",
   "execution_count": 31
  },
  {
   "cell_type": "code",
   "outputs": [
    {
     "data": {
      "text/plain": "          0         1         2         3         4\n0  0.049528  0.088650  0.054071  0.093224       NaN\n1  0.088650  0.203724  0.045321  0.225183       NaN\n2  0.054071  0.045321  0.082220  0.010788       NaN\n3  0.093224  0.225183  0.010788  0.250624  0.086179\n4       NaN       NaN       NaN  0.086179  0.284376",
      "text/html": "<div>\n<style scoped>\n    .dataframe tbody tr th:only-of-type {\n        vertical-align: middle;\n    }\n\n    .dataframe tbody tr th {\n        vertical-align: top;\n    }\n\n    .dataframe thead th {\n        text-align: right;\n    }\n</style>\n<table border=\"1\" class=\"dataframe\">\n  <thead>\n    <tr style=\"text-align: right;\">\n      <th></th>\n      <th>0</th>\n      <th>1</th>\n      <th>2</th>\n      <th>3</th>\n      <th>4</th>\n    </tr>\n  </thead>\n  <tbody>\n    <tr>\n      <th>0</th>\n      <td>0.049528</td>\n      <td>0.088650</td>\n      <td>0.054071</td>\n      <td>0.093224</td>\n      <td>NaN</td>\n    </tr>\n    <tr>\n      <th>1</th>\n      <td>0.088650</td>\n      <td>0.203724</td>\n      <td>0.045321</td>\n      <td>0.225183</td>\n      <td>NaN</td>\n    </tr>\n    <tr>\n      <th>2</th>\n      <td>0.054071</td>\n      <td>0.045321</td>\n      <td>0.082220</td>\n      <td>0.010788</td>\n      <td>NaN</td>\n    </tr>\n    <tr>\n      <th>3</th>\n      <td>0.093224</td>\n      <td>0.225183</td>\n      <td>0.010788</td>\n      <td>0.250624</td>\n      <td>0.086179</td>\n    </tr>\n    <tr>\n      <th>4</th>\n      <td>NaN</td>\n      <td>NaN</td>\n      <td>NaN</td>\n      <td>0.086179</td>\n      <td>0.284376</td>\n    </tr>\n  </tbody>\n</table>\n</div>"
     },
     "execution_count": 33,
     "metadata": {},
     "output_type": "execute_result"
    }
   ],
   "source": [
    "x.cov().apply(np.sqrt)"
   ],
   "metadata": {
    "collapsed": false,
    "ExecuteTime": {
     "end_time": "2024-04-26T12:15:55.438201Z",
     "start_time": "2024-04-26T12:15:55.410756Z"
    }
   },
   "id": "6e6330e6ce5b4473",
   "execution_count": 33
  },
  {
   "cell_type": "code",
   "outputs": [],
   "source": [
    "v = np.array((1, 2, 3))\n",
    "u = np.array((10, 20, 30))"
   ],
   "metadata": {
    "collapsed": false,
    "ExecuteTime": {
     "end_time": "2024-04-27T21:52:35.051850Z",
     "start_time": "2024-04-27T21:52:35.042659Z"
    }
   },
   "id": "7800268d1510b997",
   "execution_count": 14
  },
  {
   "cell_type": "code",
   "outputs": [
    {
     "data": {
      "text/plain": "140"
     },
     "execution_count": 16,
     "metadata": {},
     "output_type": "execute_result"
    }
   ],
   "source": [
    "u.T @ v"
   ],
   "metadata": {
    "collapsed": false,
    "ExecuteTime": {
     "end_time": "2024-04-27T21:53:03.611180Z",
     "start_time": "2024-04-27T21:53:03.596880Z"
    }
   },
   "id": "993425a7ec7b8aa6",
   "execution_count": 16
  },
  {
   "cell_type": "code",
   "outputs": [
    {
     "data": {
      "text/plain": "array([0.   , 0.001, 0.002, 0.003, 0.004, 0.005, 0.006, 0.007, 0.008,\n       0.009, 0.01 , 0.011, 0.012, 0.013, 0.014, 0.015, 0.016, 0.017,\n       0.018, 0.019, 0.02 , 0.021, 0.022, 0.023, 0.024, 0.025, 0.026,\n       0.027, 0.028, 0.029, 0.03 , 0.031, 0.032, 0.033, 0.034, 0.035,\n       0.036, 0.037, 0.038, 0.039, 0.04 , 0.041, 0.042, 0.043, 0.044,\n       0.045, 0.046, 0.047, 0.048, 0.049, 0.05 , 0.051, 0.052, 0.053,\n       0.054, 0.055, 0.056, 0.057, 0.058, 0.059, 0.06 , 0.061, 0.062,\n       0.063, 0.064, 0.065, 0.066, 0.067, 0.068, 0.069, 0.07 , 0.071,\n       0.072, 0.073, 0.074, 0.075, 0.076, 0.077, 0.078, 0.079, 0.08 ,\n       0.081, 0.082, 0.083, 0.084, 0.085, 0.086, 0.087, 0.088, 0.089,\n       0.09 , 0.091, 0.092, 0.093, 0.094, 0.095, 0.096, 0.097, 0.098,\n       0.099, 0.1  ])"
     },
     "execution_count": 21,
     "metadata": {},
     "output_type": "execute_result"
    }
   ],
   "source": [
    "np.linspace(0, 0.1, 101)"
   ],
   "metadata": {
    "collapsed": false,
    "ExecuteTime": {
     "end_time": "2024-04-27T22:18:30.818371Z",
     "start_time": "2024-04-27T22:18:30.809272Z"
    }
   },
   "id": "c7146a4ff1aa7ec9",
   "execution_count": 21
  },
  {
   "cell_type": "code",
   "outputs": [
    {
     "data": {
      "text/plain": "0.0003782865315342665"
     },
     "execution_count": 23,
     "metadata": {},
     "output_type": "execute_result"
    }
   ],
   "source": [
    "1.1**(1/252) - 1"
   ],
   "metadata": {
    "collapsed": false,
    "ExecuteTime": {
     "end_time": "2024-04-27T22:46:01.318307Z",
     "start_time": "2024-04-27T22:46:01.310244Z"
    }
   },
   "id": "99509563fa238ef8",
   "execution_count": 23
  },
  {
   "cell_type": "code",
   "outputs": [
    {
     "data": {
      "text/plain": "1.869595219956434e+110"
     },
     "execution_count": 27,
     "metadata": {},
     "output_type": "execute_result"
    }
   ],
   "source": [
    "(1 + 1.005)**365"
   ],
   "metadata": {
    "collapsed": false,
    "ExecuteTime": {
     "end_time": "2024-04-27T23:20:25.276424Z",
     "start_time": "2024-04-27T23:20:25.264178Z"
    }
   },
   "id": "bdfabc5be036ffa1",
   "execution_count": 27
  },
  {
   "cell_type": "code",
   "outputs": [],
   "source": [],
   "metadata": {
    "collapsed": false
   },
   "id": "36c45364c8da6dca"
  }
 ],
 "metadata": {
  "kernelspec": {
   "display_name": "Python 3",
   "language": "python",
   "name": "python3"
  },
  "language_info": {
   "codemirror_mode": {
    "name": "ipython",
    "version": 2
   },
   "file_extension": ".py",
   "mimetype": "text/x-python",
   "name": "python",
   "nbconvert_exporter": "python",
   "pygments_lexer": "ipython2",
   "version": "2.7.6"
  }
 },
 "nbformat": 4,
 "nbformat_minor": 5
}
