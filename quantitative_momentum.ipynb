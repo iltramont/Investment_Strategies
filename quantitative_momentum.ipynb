{
 "cells": [
  {
   "cell_type": "code",
   "execution_count": 71,
   "id": "initial_id",
   "metadata": {
    "collapsed": true,
    "ExecuteTime": {
     "end_time": "2024-04-18T14:13:05.817803Z",
     "start_time": "2024-04-18T14:13:05.811729Z"
    }
   },
   "outputs": [],
   "source": [
    "import numpy as np\n",
    "import pandas as pd\n",
    "import matplotlib.pyplot as plt\n",
    "import yfinance as yf\n",
    "\n",
    "from scipy import stats"
   ]
  },
  {
   "cell_type": "code",
   "outputs": [
    {
     "data": {
      "text/plain": "      ticker                      name              sector\n0     A2A.MI                       A2a     public_services\n1     AMP.MI                  Amplifon              health\n2     AZM.MI                    Azimut  financial_services\n3    BAMI.MI                 Banco Bpm                bank\n4      BC.MI        Brunello Cucinelli     consumer_market\n5    BMED.MI          Banca Mediolanum  financial_services\n6    BMPS.MI  Banca Monte Paschi Siena                bank\n7     BPE.MI                Bper Banca                bank\n8    BPSO.MI         Banca Pop Sondrio                bank\n9     CPR.MI                   Campari                food\n10    DIA.MI                  Diasorin              health\n11   ENEL.MI                      Enel     public_services\n12    ENI.MI                       Eni              energy\n13    ERG.MI                       Erg     public_services\n14    FBK.MI                Finecobank                bank\n15      G.MI                  Generali           insurance\n16    HER.MI                      Hera     public_services\n17     IG.MI                   Italgas     public_services\n18    INW.MI                     Inwit   telecomunications\n19     IP.MI           Interpump Group          industrial\n20    ISP.MI           Intesa Sanpaolo                bank\n21    IVG.MI               Iveco Group          industrial\n22    LDO.MI                  Leonardo          industrial\n23     MB.MI                Mediobanca  financial_services\n24   MONC.MI                   Moncler     consumer_market\n25   NEXI.MI                      Nexi          industrial\n26   PIRC.MI               Pirelli & C         automobiles\n27    PRY.MI                  Prysmian          industrial\n28    PST.MI            Poste Italiane           insurance\n29   RACE.MI                   Ferrari         automobiles\n30    REC.MI             Recordati Ord              health\n31    SPM.MI                    Saipem              energy\n32    SRG.MI                      Snam              energy\n33  STLAM.MI                Stellantis         automobiles\n34  STMMI.MI        Stmicroelectronics           tecnology\n35    TEN.MI                   Tenaris              energy\n36    TIT.MI            Telecom Italia   telecomunications\n37    TRN.MI                     Terna     public_services\n38    UCG.MI                 Unicredit                bank\n39    UNI.MI                    Unipol           insurance",
      "text/html": "<div>\n<style scoped>\n    .dataframe tbody tr th:only-of-type {\n        vertical-align: middle;\n    }\n\n    .dataframe tbody tr th {\n        vertical-align: top;\n    }\n\n    .dataframe thead th {\n        text-align: right;\n    }\n</style>\n<table border=\"1\" class=\"dataframe\">\n  <thead>\n    <tr style=\"text-align: right;\">\n      <th></th>\n      <th>ticker</th>\n      <th>name</th>\n      <th>sector</th>\n    </tr>\n  </thead>\n  <tbody>\n    <tr>\n      <th>0</th>\n      <td>A2A.MI</td>\n      <td>A2a</td>\n      <td>public_services</td>\n    </tr>\n    <tr>\n      <th>1</th>\n      <td>AMP.MI</td>\n      <td>Amplifon</td>\n      <td>health</td>\n    </tr>\n    <tr>\n      <th>2</th>\n      <td>AZM.MI</td>\n      <td>Azimut</td>\n      <td>financial_services</td>\n    </tr>\n    <tr>\n      <th>3</th>\n      <td>BAMI.MI</td>\n      <td>Banco Bpm</td>\n      <td>bank</td>\n    </tr>\n    <tr>\n      <th>4</th>\n      <td>BC.MI</td>\n      <td>Brunello Cucinelli</td>\n      <td>consumer_market</td>\n    </tr>\n    <tr>\n      <th>5</th>\n      <td>BMED.MI</td>\n      <td>Banca Mediolanum</td>\n      <td>financial_services</td>\n    </tr>\n    <tr>\n      <th>6</th>\n      <td>BMPS.MI</td>\n      <td>Banca Monte Paschi Siena</td>\n      <td>bank</td>\n    </tr>\n    <tr>\n      <th>7</th>\n      <td>BPE.MI</td>\n      <td>Bper Banca</td>\n      <td>bank</td>\n    </tr>\n    <tr>\n      <th>8</th>\n      <td>BPSO.MI</td>\n      <td>Banca Pop Sondrio</td>\n      <td>bank</td>\n    </tr>\n    <tr>\n      <th>9</th>\n      <td>CPR.MI</td>\n      <td>Campari</td>\n      <td>food</td>\n    </tr>\n    <tr>\n      <th>10</th>\n      <td>DIA.MI</td>\n      <td>Diasorin</td>\n      <td>health</td>\n    </tr>\n    <tr>\n      <th>11</th>\n      <td>ENEL.MI</td>\n      <td>Enel</td>\n      <td>public_services</td>\n    </tr>\n    <tr>\n      <th>12</th>\n      <td>ENI.MI</td>\n      <td>Eni</td>\n      <td>energy</td>\n    </tr>\n    <tr>\n      <th>13</th>\n      <td>ERG.MI</td>\n      <td>Erg</td>\n      <td>public_services</td>\n    </tr>\n    <tr>\n      <th>14</th>\n      <td>FBK.MI</td>\n      <td>Finecobank</td>\n      <td>bank</td>\n    </tr>\n    <tr>\n      <th>15</th>\n      <td>G.MI</td>\n      <td>Generali</td>\n      <td>insurance</td>\n    </tr>\n    <tr>\n      <th>16</th>\n      <td>HER.MI</td>\n      <td>Hera</td>\n      <td>public_services</td>\n    </tr>\n    <tr>\n      <th>17</th>\n      <td>IG.MI</td>\n      <td>Italgas</td>\n      <td>public_services</td>\n    </tr>\n    <tr>\n      <th>18</th>\n      <td>INW.MI</td>\n      <td>Inwit</td>\n      <td>telecomunications</td>\n    </tr>\n    <tr>\n      <th>19</th>\n      <td>IP.MI</td>\n      <td>Interpump Group</td>\n      <td>industrial</td>\n    </tr>\n    <tr>\n      <th>20</th>\n      <td>ISP.MI</td>\n      <td>Intesa Sanpaolo</td>\n      <td>bank</td>\n    </tr>\n    <tr>\n      <th>21</th>\n      <td>IVG.MI</td>\n      <td>Iveco Group</td>\n      <td>industrial</td>\n    </tr>\n    <tr>\n      <th>22</th>\n      <td>LDO.MI</td>\n      <td>Leonardo</td>\n      <td>industrial</td>\n    </tr>\n    <tr>\n      <th>23</th>\n      <td>MB.MI</td>\n      <td>Mediobanca</td>\n      <td>financial_services</td>\n    </tr>\n    <tr>\n      <th>24</th>\n      <td>MONC.MI</td>\n      <td>Moncler</td>\n      <td>consumer_market</td>\n    </tr>\n    <tr>\n      <th>25</th>\n      <td>NEXI.MI</td>\n      <td>Nexi</td>\n      <td>industrial</td>\n    </tr>\n    <tr>\n      <th>26</th>\n      <td>PIRC.MI</td>\n      <td>Pirelli &amp; C</td>\n      <td>automobiles</td>\n    </tr>\n    <tr>\n      <th>27</th>\n      <td>PRY.MI</td>\n      <td>Prysmian</td>\n      <td>industrial</td>\n    </tr>\n    <tr>\n      <th>28</th>\n      <td>PST.MI</td>\n      <td>Poste Italiane</td>\n      <td>insurance</td>\n    </tr>\n    <tr>\n      <th>29</th>\n      <td>RACE.MI</td>\n      <td>Ferrari</td>\n      <td>automobiles</td>\n    </tr>\n    <tr>\n      <th>30</th>\n      <td>REC.MI</td>\n      <td>Recordati Ord</td>\n      <td>health</td>\n    </tr>\n    <tr>\n      <th>31</th>\n      <td>SPM.MI</td>\n      <td>Saipem</td>\n      <td>energy</td>\n    </tr>\n    <tr>\n      <th>32</th>\n      <td>SRG.MI</td>\n      <td>Snam</td>\n      <td>energy</td>\n    </tr>\n    <tr>\n      <th>33</th>\n      <td>STLAM.MI</td>\n      <td>Stellantis</td>\n      <td>automobiles</td>\n    </tr>\n    <tr>\n      <th>34</th>\n      <td>STMMI.MI</td>\n      <td>Stmicroelectronics</td>\n      <td>tecnology</td>\n    </tr>\n    <tr>\n      <th>35</th>\n      <td>TEN.MI</td>\n      <td>Tenaris</td>\n      <td>energy</td>\n    </tr>\n    <tr>\n      <th>36</th>\n      <td>TIT.MI</td>\n      <td>Telecom Italia</td>\n      <td>telecomunications</td>\n    </tr>\n    <tr>\n      <th>37</th>\n      <td>TRN.MI</td>\n      <td>Terna</td>\n      <td>public_services</td>\n    </tr>\n    <tr>\n      <th>38</th>\n      <td>UCG.MI</td>\n      <td>Unicredit</td>\n      <td>bank</td>\n    </tr>\n    <tr>\n      <th>39</th>\n      <td>UNI.MI</td>\n      <td>Unipol</td>\n      <td>insurance</td>\n    </tr>\n  </tbody>\n</table>\n</div>"
     },
     "metadata": {},
     "output_type": "display_data"
    }
   ],
   "source": [
    "STARTING_CAPITAL = 10_000\n",
    "\n",
    "data = pd.read_excel(\"FTSEMIB_tickers.xlsx\").sort_values(by='ticker', ignore_index=True)\n",
    "display(data)"
   ],
   "metadata": {
    "collapsed": false,
    "ExecuteTime": {
     "end_time": "2024-04-18T14:13:06.003601Z",
     "start_time": "2024-04-18T14:13:05.947595Z"
    }
   },
   "id": "af3dead035b98617",
   "execution_count": 72
  },
  {
   "cell_type": "markdown",
   "source": [
    "# Download stocks data"
   ],
   "metadata": {
    "collapsed": false
   },
   "id": "fa5c4798f934f23"
  },
  {
   "cell_type": "code",
   "outputs": [
    {
     "name": "stderr",
     "output_type": "stream",
     "text": [
      "[*********************100%%**********************]  40 of 40 completed\n"
     ]
    }
   ],
   "source": [
    "ftsemib_data = yf.download(list(data[\"ticker\"]))"
   ],
   "metadata": {
    "collapsed": false,
    "ExecuteTime": {
     "end_time": "2024-04-18T14:13:13.252836Z",
     "start_time": "2024-04-18T14:13:06.007595Z"
    }
   },
   "id": "1f7fcff9d0958be9",
   "execution_count": 73
  },
  {
   "cell_type": "code",
   "outputs": [],
   "source": [
    "def compute_period_return(prices):\n",
    "    initial_price = prices.iloc[0]\n",
    "    final_price = prices.iloc[-1]\n",
    "    return ((final_price - initial_price) / initial_price)"
   ],
   "metadata": {
    "collapsed": false,
    "ExecuteTime": {
     "end_time": "2024-04-18T14:13:13.283481Z",
     "start_time": "2024-04-18T14:13:13.258874Z"
    }
   },
   "id": "401b435e7012b785",
   "execution_count": 74
  },
  {
   "cell_type": "code",
   "outputs": [
    {
     "data": {
      "text/plain": "                       name              sector  last close price  \\\nticker                                                              \nA2A.MI                  A2a     public_services               NaN   \nAMP.MI             Amplifon              health               NaN   \nAZM.MI               Azimut  financial_services               NaN   \nBAMI.MI           Banco Bpm                bank               NaN   \nBC.MI    Brunello Cucinelli     consumer_market               NaN   \n\n         momentum score  number of shares to buy  stock position  \\\nticker                                                             \nA2A.MI              NaN                      NaN             NaN   \nAMP.MI              NaN                      NaN             NaN   \nAZM.MI              NaN                      NaN             NaN   \nBAMI.MI             NaN                      NaN             NaN   \nBC.MI               NaN                      NaN             NaN   \n\n         one-year return  one-year percentile score  six-months return  \\\nticker                                                                   \nA2A.MI               NaN                        NaN                NaN   \nAMP.MI               NaN                        NaN                NaN   \nAZM.MI               NaN                        NaN                NaN   \nBAMI.MI              NaN                        NaN                NaN   \nBC.MI                NaN                        NaN                NaN   \n\n         six-months percentile score  three-months return  \\\nticker                                                      \nA2A.MI                           NaN                  NaN   \nAMP.MI                           NaN                  NaN   \nAZM.MI                           NaN                  NaN   \nBAMI.MI                          NaN                  NaN   \nBC.MI                            NaN                  NaN   \n\n         three-months percentile score  one-month return  \\\nticker                                                     \nA2A.MI                             NaN               NaN   \nAMP.MI                             NaN               NaN   \nAZM.MI                             NaN               NaN   \nBAMI.MI                            NaN               NaN   \nBC.MI                              NaN               NaN   \n\n         one-month percentile score  \nticker                               \nA2A.MI                          NaN  \nAMP.MI                          NaN  \nAZM.MI                          NaN  \nBAMI.MI                         NaN  \nBC.MI                           NaN  ",
      "text/html": "<div>\n<style scoped>\n    .dataframe tbody tr th:only-of-type {\n        vertical-align: middle;\n    }\n\n    .dataframe tbody tr th {\n        vertical-align: top;\n    }\n\n    .dataframe thead th {\n        text-align: right;\n    }\n</style>\n<table border=\"1\" class=\"dataframe\">\n  <thead>\n    <tr style=\"text-align: right;\">\n      <th></th>\n      <th>name</th>\n      <th>sector</th>\n      <th>last close price</th>\n      <th>momentum score</th>\n      <th>number of shares to buy</th>\n      <th>stock position</th>\n      <th>one-year return</th>\n      <th>one-year percentile score</th>\n      <th>six-months return</th>\n      <th>six-months percentile score</th>\n      <th>three-months return</th>\n      <th>three-months percentile score</th>\n      <th>one-month return</th>\n      <th>one-month percentile score</th>\n    </tr>\n    <tr>\n      <th>ticker</th>\n      <th></th>\n      <th></th>\n      <th></th>\n      <th></th>\n      <th></th>\n      <th></th>\n      <th></th>\n      <th></th>\n      <th></th>\n      <th></th>\n      <th></th>\n      <th></th>\n      <th></th>\n      <th></th>\n    </tr>\n  </thead>\n  <tbody>\n    <tr>\n      <th>A2A.MI</th>\n      <td>A2a</td>\n      <td>public_services</td>\n      <td>NaN</td>\n      <td>NaN</td>\n      <td>NaN</td>\n      <td>NaN</td>\n      <td>NaN</td>\n      <td>NaN</td>\n      <td>NaN</td>\n      <td>NaN</td>\n      <td>NaN</td>\n      <td>NaN</td>\n      <td>NaN</td>\n      <td>NaN</td>\n    </tr>\n    <tr>\n      <th>AMP.MI</th>\n      <td>Amplifon</td>\n      <td>health</td>\n      <td>NaN</td>\n      <td>NaN</td>\n      <td>NaN</td>\n      <td>NaN</td>\n      <td>NaN</td>\n      <td>NaN</td>\n      <td>NaN</td>\n      <td>NaN</td>\n      <td>NaN</td>\n      <td>NaN</td>\n      <td>NaN</td>\n      <td>NaN</td>\n    </tr>\n    <tr>\n      <th>AZM.MI</th>\n      <td>Azimut</td>\n      <td>financial_services</td>\n      <td>NaN</td>\n      <td>NaN</td>\n      <td>NaN</td>\n      <td>NaN</td>\n      <td>NaN</td>\n      <td>NaN</td>\n      <td>NaN</td>\n      <td>NaN</td>\n      <td>NaN</td>\n      <td>NaN</td>\n      <td>NaN</td>\n      <td>NaN</td>\n    </tr>\n    <tr>\n      <th>BAMI.MI</th>\n      <td>Banco Bpm</td>\n      <td>bank</td>\n      <td>NaN</td>\n      <td>NaN</td>\n      <td>NaN</td>\n      <td>NaN</td>\n      <td>NaN</td>\n      <td>NaN</td>\n      <td>NaN</td>\n      <td>NaN</td>\n      <td>NaN</td>\n      <td>NaN</td>\n      <td>NaN</td>\n      <td>NaN</td>\n    </tr>\n    <tr>\n      <th>BC.MI</th>\n      <td>Brunello Cucinelli</td>\n      <td>consumer_market</td>\n      <td>NaN</td>\n      <td>NaN</td>\n      <td>NaN</td>\n      <td>NaN</td>\n      <td>NaN</td>\n      <td>NaN</td>\n      <td>NaN</td>\n      <td>NaN</td>\n      <td>NaN</td>\n      <td>NaN</td>\n      <td>NaN</td>\n      <td>NaN</td>\n    </tr>\n  </tbody>\n</table>\n</div>"
     },
     "metadata": {},
     "output_type": "display_data"
    }
   ],
   "source": [
    "periods = [\n",
    "    'one-year',\n",
    "    'six-months',\n",
    "    'three-months',\n",
    "    'one-month',\n",
    "]\n",
    "columns = [\n",
    "    'last close price',\n",
    "    'momentum score',\n",
    "    'number of shares to buy',\n",
    "    'stock position'\n",
    "]\n",
    "for period in periods:\n",
    "    columns.append(period + ' return')\n",
    "    columns.append(period + ' percentile score')\n",
    "    \n",
    "for column in columns:\n",
    "    data[column] = np.nan\n",
    "    \n",
    "data.set_index(\"ticker\", inplace=True)\n",
    "display(data.head())"
   ],
   "metadata": {
    "collapsed": false,
    "ExecuteTime": {
     "end_time": "2024-04-18T14:13:13.360544Z",
     "start_time": "2024-04-18T14:13:13.291774Z"
    }
   },
   "id": "88bffe2362ca0531",
   "execution_count": 75
  },
  {
   "cell_type": "code",
   "outputs": [
    {
     "data": {
      "text/plain": "                       name              sector  last close price  \\\nticker                                                              \nA2A.MI                  A2a     public_services          1.696500   \nAMP.MI             Amplifon              health         30.799999   \nAZM.MI               Azimut  financial_services         24.070000   \nBAMI.MI           Banco Bpm                bank          6.314000   \nBC.MI    Brunello Cucinelli     consumer_market         97.800003   \n\n         momentum score  number of shares to buy  stock position  \\\nticker                                                             \nA2A.MI              NaN                      NaN             NaN   \nAMP.MI              NaN                      NaN             NaN   \nAZM.MI              NaN                      NaN             NaN   \nBAMI.MI             NaN                      NaN             NaN   \nBC.MI               NaN                      NaN             NaN   \n\n         one-year return  one-year percentile score  six-months return  \\\nticker                                                                   \nA2A.MI          0.136794                        NaN           0.003846   \nAMP.MI         -0.074397                        NaN           0.137371   \nAZM.MI          0.256877                        NaN           0.212594   \nBAMI.MI         0.542257                        NaN           0.326749   \nBC.MI           0.092315                        NaN           0.364969   \n\n         six-months percentile score  three-months return  \\\nticker                                                      \nA2A.MI                           NaN            -0.069901   \nAMP.MI                           NaN             0.050477   \nAZM.MI                           NaN            -0.039505   \nBAMI.MI                          NaN             0.288571   \nBC.MI                            NaN             0.151266   \n\n         three-months percentile score  one-month return  \\\nticker                                                     \nA2A.MI                             NaN          0.029430   \nAMP.MI                             NaN         -0.045849   \nAZM.MI                             NaN         -0.028652   \nBAMI.MI                            NaN          0.062605   \nBC.MI                              NaN         -0.072986   \n\n         one-month percentile score  \nticker                               \nA2A.MI                          NaN  \nAMP.MI                          NaN  \nAZM.MI                          NaN  \nBAMI.MI                         NaN  \nBC.MI                           NaN  ",
      "text/html": "<div>\n<style scoped>\n    .dataframe tbody tr th:only-of-type {\n        vertical-align: middle;\n    }\n\n    .dataframe tbody tr th {\n        vertical-align: top;\n    }\n\n    .dataframe thead th {\n        text-align: right;\n    }\n</style>\n<table border=\"1\" class=\"dataframe\">\n  <thead>\n    <tr style=\"text-align: right;\">\n      <th></th>\n      <th>name</th>\n      <th>sector</th>\n      <th>last close price</th>\n      <th>momentum score</th>\n      <th>number of shares to buy</th>\n      <th>stock position</th>\n      <th>one-year return</th>\n      <th>one-year percentile score</th>\n      <th>six-months return</th>\n      <th>six-months percentile score</th>\n      <th>three-months return</th>\n      <th>three-months percentile score</th>\n      <th>one-month return</th>\n      <th>one-month percentile score</th>\n    </tr>\n    <tr>\n      <th>ticker</th>\n      <th></th>\n      <th></th>\n      <th></th>\n      <th></th>\n      <th></th>\n      <th></th>\n      <th></th>\n      <th></th>\n      <th></th>\n      <th></th>\n      <th></th>\n      <th></th>\n      <th></th>\n      <th></th>\n    </tr>\n  </thead>\n  <tbody>\n    <tr>\n      <th>A2A.MI</th>\n      <td>A2a</td>\n      <td>public_services</td>\n      <td>1.696500</td>\n      <td>NaN</td>\n      <td>NaN</td>\n      <td>NaN</td>\n      <td>0.136794</td>\n      <td>NaN</td>\n      <td>0.003846</td>\n      <td>NaN</td>\n      <td>-0.069901</td>\n      <td>NaN</td>\n      <td>0.029430</td>\n      <td>NaN</td>\n    </tr>\n    <tr>\n      <th>AMP.MI</th>\n      <td>Amplifon</td>\n      <td>health</td>\n      <td>30.799999</td>\n      <td>NaN</td>\n      <td>NaN</td>\n      <td>NaN</td>\n      <td>-0.074397</td>\n      <td>NaN</td>\n      <td>0.137371</td>\n      <td>NaN</td>\n      <td>0.050477</td>\n      <td>NaN</td>\n      <td>-0.045849</td>\n      <td>NaN</td>\n    </tr>\n    <tr>\n      <th>AZM.MI</th>\n      <td>Azimut</td>\n      <td>financial_services</td>\n      <td>24.070000</td>\n      <td>NaN</td>\n      <td>NaN</td>\n      <td>NaN</td>\n      <td>0.256877</td>\n      <td>NaN</td>\n      <td>0.212594</td>\n      <td>NaN</td>\n      <td>-0.039505</td>\n      <td>NaN</td>\n      <td>-0.028652</td>\n      <td>NaN</td>\n    </tr>\n    <tr>\n      <th>BAMI.MI</th>\n      <td>Banco Bpm</td>\n      <td>bank</td>\n      <td>6.314000</td>\n      <td>NaN</td>\n      <td>NaN</td>\n      <td>NaN</td>\n      <td>0.542257</td>\n      <td>NaN</td>\n      <td>0.326749</td>\n      <td>NaN</td>\n      <td>0.288571</td>\n      <td>NaN</td>\n      <td>0.062605</td>\n      <td>NaN</td>\n    </tr>\n    <tr>\n      <th>BC.MI</th>\n      <td>Brunello Cucinelli</td>\n      <td>consumer_market</td>\n      <td>97.800003</td>\n      <td>NaN</td>\n      <td>NaN</td>\n      <td>NaN</td>\n      <td>0.092315</td>\n      <td>NaN</td>\n      <td>0.364969</td>\n      <td>NaN</td>\n      <td>0.151266</td>\n      <td>NaN</td>\n      <td>-0.072986</td>\n      <td>NaN</td>\n    </tr>\n  </tbody>\n</table>\n</div>"
     },
     "metadata": {},
     "output_type": "display_data"
    }
   ],
   "source": [
    "data['one-year return'] = compute_period_return(ftsemib_data['Adj Close'].iloc[-252:])\n",
    "data['six-months return'] = compute_period_return(ftsemib_data['Adj Close'].iloc[-126:])\n",
    "data['three-months return'] = compute_period_return(ftsemib_data['Adj Close'].iloc[-63:])\n",
    "data['one-month return'] = compute_period_return(ftsemib_data['Adj Close'].iloc[-21:])\n",
    "data['last close price'] = ftsemib_data['Close'].iloc[-1]\n",
    "display(data.head())"
   ],
   "metadata": {
    "collapsed": false,
    "ExecuteTime": {
     "end_time": "2024-04-18T14:13:13.422045Z",
     "start_time": "2024-04-18T14:13:13.363534Z"
    }
   },
   "id": "466ebd92548ae37f",
   "execution_count": 76
  },
  {
   "cell_type": "markdown",
   "source": [
    "# Compute Percentile scores and momentum score"
   ],
   "metadata": {
    "collapsed": false
   },
   "id": "6b087d5e3c2406bd"
  },
  {
   "cell_type": "code",
   "outputs": [
    {
     "data": {
      "text/plain": "                       name              sector  last close price  \\\nticker                                                              \nA2A.MI                  A2a     public_services          1.696500   \nAMP.MI             Amplifon              health         30.799999   \nAZM.MI               Azimut  financial_services         24.070000   \nBAMI.MI           Banco Bpm                bank          6.314000   \nBC.MI    Brunello Cucinelli     consumer_market         97.800003   \n\n         momentum score  number of shares to buy  stock position  \\\nticker                                                             \nA2A.MI           41.250                      NaN             NaN   \nAMP.MI           32.500                      NaN             NaN   \nAZM.MI           43.750                      NaN             NaN   \nBAMI.MI          81.250                      NaN             NaN   \nBC.MI            46.875                      NaN             NaN   \n\n         one-year return  one-year percentile score  six-months return  \\\nticker                                                                   \nA2A.MI          0.136794                       42.5           0.003846   \nAMP.MI         -0.074397                       25.0           0.137371   \nAZM.MI          0.256877                       57.5           0.212594   \nBAMI.MI         0.542257                       80.0           0.326749   \nBC.MI           0.092315                       40.0           0.364969   \n\n         six-months percentile score  three-months return  \\\nticker                                                      \nA2A.MI                          17.5            -0.069901   \nAMP.MI                          40.0             0.050477   \nAZM.MI                          45.0            -0.039505   \nBAMI.MI                         62.5             0.288571   \nBC.MI                           75.0             0.151266   \n\n         three-months percentile score  one-month return  \\\nticker                                                     \nA2A.MI                            22.5          0.029430   \nAMP.MI                            40.0         -0.045849   \nAZM.MI                            30.0         -0.028652   \nBAMI.MI                           85.0          0.062605   \nBC.MI                             65.0         -0.072986   \n\n         one-month percentile score  \nticker                               \nA2A.MI                         82.5  \nAMP.MI                         25.0  \nAZM.MI                         42.5  \nBAMI.MI                        97.5  \nBC.MI                           7.5  ",
      "text/html": "<div>\n<style scoped>\n    .dataframe tbody tr th:only-of-type {\n        vertical-align: middle;\n    }\n\n    .dataframe tbody tr th {\n        vertical-align: top;\n    }\n\n    .dataframe thead th {\n        text-align: right;\n    }\n</style>\n<table border=\"1\" class=\"dataframe\">\n  <thead>\n    <tr style=\"text-align: right;\">\n      <th></th>\n      <th>name</th>\n      <th>sector</th>\n      <th>last close price</th>\n      <th>momentum score</th>\n      <th>number of shares to buy</th>\n      <th>stock position</th>\n      <th>one-year return</th>\n      <th>one-year percentile score</th>\n      <th>six-months return</th>\n      <th>six-months percentile score</th>\n      <th>three-months return</th>\n      <th>three-months percentile score</th>\n      <th>one-month return</th>\n      <th>one-month percentile score</th>\n    </tr>\n    <tr>\n      <th>ticker</th>\n      <th></th>\n      <th></th>\n      <th></th>\n      <th></th>\n      <th></th>\n      <th></th>\n      <th></th>\n      <th></th>\n      <th></th>\n      <th></th>\n      <th></th>\n      <th></th>\n      <th></th>\n      <th></th>\n    </tr>\n  </thead>\n  <tbody>\n    <tr>\n      <th>A2A.MI</th>\n      <td>A2a</td>\n      <td>public_services</td>\n      <td>1.696500</td>\n      <td>41.250</td>\n      <td>NaN</td>\n      <td>NaN</td>\n      <td>0.136794</td>\n      <td>42.5</td>\n      <td>0.003846</td>\n      <td>17.5</td>\n      <td>-0.069901</td>\n      <td>22.5</td>\n      <td>0.029430</td>\n      <td>82.5</td>\n    </tr>\n    <tr>\n      <th>AMP.MI</th>\n      <td>Amplifon</td>\n      <td>health</td>\n      <td>30.799999</td>\n      <td>32.500</td>\n      <td>NaN</td>\n      <td>NaN</td>\n      <td>-0.074397</td>\n      <td>25.0</td>\n      <td>0.137371</td>\n      <td>40.0</td>\n      <td>0.050477</td>\n      <td>40.0</td>\n      <td>-0.045849</td>\n      <td>25.0</td>\n    </tr>\n    <tr>\n      <th>AZM.MI</th>\n      <td>Azimut</td>\n      <td>financial_services</td>\n      <td>24.070000</td>\n      <td>43.750</td>\n      <td>NaN</td>\n      <td>NaN</td>\n      <td>0.256877</td>\n      <td>57.5</td>\n      <td>0.212594</td>\n      <td>45.0</td>\n      <td>-0.039505</td>\n      <td>30.0</td>\n      <td>-0.028652</td>\n      <td>42.5</td>\n    </tr>\n    <tr>\n      <th>BAMI.MI</th>\n      <td>Banco Bpm</td>\n      <td>bank</td>\n      <td>6.314000</td>\n      <td>81.250</td>\n      <td>NaN</td>\n      <td>NaN</td>\n      <td>0.542257</td>\n      <td>80.0</td>\n      <td>0.326749</td>\n      <td>62.5</td>\n      <td>0.288571</td>\n      <td>85.0</td>\n      <td>0.062605</td>\n      <td>97.5</td>\n    </tr>\n    <tr>\n      <th>BC.MI</th>\n      <td>Brunello Cucinelli</td>\n      <td>consumer_market</td>\n      <td>97.800003</td>\n      <td>46.875</td>\n      <td>NaN</td>\n      <td>NaN</td>\n      <td>0.092315</td>\n      <td>40.0</td>\n      <td>0.364969</td>\n      <td>75.0</td>\n      <td>0.151266</td>\n      <td>65.0</td>\n      <td>-0.072986</td>\n      <td>7.5</td>\n    </tr>\n  </tbody>\n</table>\n</div>"
     },
     "metadata": {},
     "output_type": "display_data"
    }
   ],
   "source": [
    "for stock in data.index:\n",
    "    scores = []\n",
    "    for period in periods:\n",
    "        return_col = period + ' return'\n",
    "        score_col = period + ' percentile score'\n",
    "        # Compute score\n",
    "        score = stats.percentileofscore(data[return_col], data[return_col].loc[stock])\n",
    "        # Add score\n",
    "        data.loc[stock, score_col] = score\n",
    "        scores.append(score)\n",
    "    data.loc[stock, 'momentum score'] = np.mean(scores)\n",
    "display(data.head())"
   ],
   "metadata": {
    "collapsed": false,
    "ExecuteTime": {
     "end_time": "2024-04-18T14:13:13.560491Z",
     "start_time": "2024-04-18T14:13:13.428134Z"
    }
   },
   "id": "140e9ce353f73d96",
   "execution_count": 77
  },
  {
   "cell_type": "markdown",
   "source": [
    "# Select top 20 according to momentum score"
   ],
   "metadata": {
    "collapsed": false
   },
   "id": "301d35694eb6845f"
  },
  {
   "cell_type": "code",
   "outputs": [
    {
     "data": {
      "text/plain": "                              name              sector  last close price  \\\nticker                                                                     \nUNI.MI                      Unipol           insurance          8.085000   \nSPM.MI                      Saipem              energy          2.266000   \nUCG.MI                   Unicredit                bank         34.799999   \nBPE.MI                  Bper Banca                bank          4.374000   \nLDO.MI                    Leonardo          industrial         21.639999   \nBAMI.MI                  Banco Bpm                bank          6.314000   \nBMPS.MI   Banca Monte Paschi Siena                bank          4.114000   \nPRY.MI                    Prysmian          industrial         50.020000   \nBPSO.MI          Banca Pop Sondrio                bank          7.035000   \nISP.MI             Intesa Sanpaolo                bank          3.318500   \nPIRC.MI                Pirelli & C         automobiles          5.830000   \nIVG.MI                 Iveco Group          industrial         12.520000   \nRACE.MI                    Ferrari         automobiles        387.700012   \nMB.MI                   Mediobanca  financial_services         13.575000   \nTEN.MI                     Tenaris              energy         17.750000   \nBMED.MI           Banca Mediolanum  financial_services         10.110000   \nPST.MI              Poste Italiane           insurance         11.620000   \nSTLAM.MI                Stellantis         automobiles         24.139999   \nFBK.MI                  Finecobank                bank         13.775000   \nG.MI                      Generali           insurance         22.570000   \n\n          momentum score  number of shares to buy  stock position  \\\nticker                                                              \nUNI.MI            95.000                      NaN             NaN   \nSPM.MI            91.875                      NaN             NaN   \nUCG.MI            90.625                      NaN             NaN   \nBPE.MI            87.500                      NaN             NaN   \nLDO.MI            84.375                      NaN             NaN   \nBAMI.MI           81.250                      NaN             NaN   \nBMPS.MI           75.625                      NaN             NaN   \nPRY.MI            75.000                      NaN             NaN   \nBPSO.MI           73.750                      NaN             NaN   \nISP.MI            72.500                      NaN             NaN   \nPIRC.MI           70.625                      NaN             NaN   \nIVG.MI            67.500                      NaN             NaN   \nRACE.MI           66.250                      NaN             NaN   \nMB.MI             66.250                      NaN             NaN   \nTEN.MI            61.250                      NaN             NaN   \nBMED.MI           57.500                      NaN             NaN   \nPST.MI            56.250                      NaN             NaN   \nSTLAM.MI          56.250                      NaN             NaN   \nFBK.MI            53.125                      NaN             NaN   \nG.MI              53.125                      NaN             NaN   \n\n          one-year return  one-year percentile score  six-months return  \\\nticker                                                                    \nUNI.MI           0.712450                       90.0           0.566253   \nSPM.MI           0.636692                       85.0           0.467141   \nUCG.MI           0.844784                       97.5           0.546323   \nBPE.MI           0.667556                       87.5           0.487755   \nLDO.MI           0.975039                      100.0           0.545714   \nBAMI.MI          0.542257                       80.0           0.326749   \nBMPS.MI          0.841540                       95.0           0.664913   \nPRY.MI           0.340300                       65.0           0.424665   \nBPSO.MI          0.764416                       92.5           0.367347   \nISP.MI           0.452895                       70.0           0.476462   \nPIRC.MI          0.316011                       62.5           0.337156   \nIVG.MI           0.498683                       75.0           0.499761   \nRACE.MI          0.523379                       77.5           0.359874   \nMB.MI            0.495212                       72.5           0.302952   \nTEN.MI           0.386515                       67.5           0.150691   \nBMED.MI          0.247656                       52.5           0.340063   \nPST.MI           0.292094                       60.0           0.249449   \nSTLAM.MI         0.616013                       82.5           0.334734   \nFBK.MI           0.010147                       35.0           0.253412   \nG.MI             0.256187                       55.0           0.214747   \n\n          six-months percentile score  three-months return  \\\nticker                                                       \nUNI.MI                           97.5             0.482942   \nSPM.MI                           82.5             0.589060   \nUCG.MI                           95.0             0.316188   \nBPE.MI                           87.5             0.315885   \nLDO.MI                           92.5             0.316302   \nBAMI.MI                          62.5             0.288571   \nBMPS.MI                         100.0             0.269753   \nPRY.MI                           80.0             0.246449   \nBPSO.MI                          77.5             0.102665   \nISP.MI                           85.0             0.204319   \nPIRC.MI                          67.5             0.140454   \nIVG.MI                           90.0             0.394209   \nRACE.MI                          72.5             0.213459   \nMB.MI                            60.0             0.129838   \nTEN.MI                           42.5             0.230076   \nBMED.MI                          70.0             0.087331   \nPST.MI                           55.0             0.149926   \nSTLAM.MI                         65.0             0.227250   \nFBK.MI                           57.5            -0.003617   \nG.MI                             47.5             0.110182   \n\n          three-months percentile score  one-month return  \\\nticker                                                      \nUNI.MI                             97.5          0.058800   \nSPM.MI                            100.0          0.085769   \nUCG.MI                             90.0          0.027458   \nBPE.MI                             87.5          0.037969   \nLDO.MI                             92.5         -0.021257   \nBAMI.MI                            85.0          0.062605   \nBMPS.MI                            80.0         -0.045033   \nPRY.MI                             77.5          0.026683   \nBPSO.MI                            52.5          0.020305   \nISP.MI                             67.5          0.012973   \nPIRC.MI                            60.0          0.044429   \nIVG.MI                             95.0         -0.070527   \nRACE.MI                            70.0         -0.026857   \nMB.MI                              57.5          0.022599   \nTEN.MI                             75.0         -0.011417   \nBMED.MI                            50.0         -0.014620   \nPST.MI                             62.5         -0.025985   \nSTLAM.MI                           72.5         -0.092822   \nFBK.MI                             35.0          0.029907   \nG.MI                               55.0         -0.016558   \n\n          one-month percentile score  \nticker                                \nUNI.MI                          95.0  \nSPM.MI                         100.0  \nUCG.MI                          80.0  \nBPE.MI                          87.5  \nLDO.MI                          52.5  \nBAMI.MI                         97.5  \nBMPS.MI                         27.5  \nPRY.MI                          77.5  \nBPSO.MI                         72.5  \nISP.MI                          67.5  \nPIRC.MI                         92.5  \nIVG.MI                          10.0  \nRACE.MI                         45.0  \nMB.MI                           75.0  \nTEN.MI                          60.0  \nBMED.MI                         57.5  \nPST.MI                          47.5  \nSTLAM.MI                         5.0  \nFBK.MI                          85.0  \nG.MI                            55.0  ",
      "text/html": "<div>\n<style scoped>\n    .dataframe tbody tr th:only-of-type {\n        vertical-align: middle;\n    }\n\n    .dataframe tbody tr th {\n        vertical-align: top;\n    }\n\n    .dataframe thead th {\n        text-align: right;\n    }\n</style>\n<table border=\"1\" class=\"dataframe\">\n  <thead>\n    <tr style=\"text-align: right;\">\n      <th></th>\n      <th>name</th>\n      <th>sector</th>\n      <th>last close price</th>\n      <th>momentum score</th>\n      <th>number of shares to buy</th>\n      <th>stock position</th>\n      <th>one-year return</th>\n      <th>one-year percentile score</th>\n      <th>six-months return</th>\n      <th>six-months percentile score</th>\n      <th>three-months return</th>\n      <th>three-months percentile score</th>\n      <th>one-month return</th>\n      <th>one-month percentile score</th>\n    </tr>\n    <tr>\n      <th>ticker</th>\n      <th></th>\n      <th></th>\n      <th></th>\n      <th></th>\n      <th></th>\n      <th></th>\n      <th></th>\n      <th></th>\n      <th></th>\n      <th></th>\n      <th></th>\n      <th></th>\n      <th></th>\n      <th></th>\n    </tr>\n  </thead>\n  <tbody>\n    <tr>\n      <th>UNI.MI</th>\n      <td>Unipol</td>\n      <td>insurance</td>\n      <td>8.085000</td>\n      <td>95.000</td>\n      <td>NaN</td>\n      <td>NaN</td>\n      <td>0.712450</td>\n      <td>90.0</td>\n      <td>0.566253</td>\n      <td>97.5</td>\n      <td>0.482942</td>\n      <td>97.5</td>\n      <td>0.058800</td>\n      <td>95.0</td>\n    </tr>\n    <tr>\n      <th>SPM.MI</th>\n      <td>Saipem</td>\n      <td>energy</td>\n      <td>2.266000</td>\n      <td>91.875</td>\n      <td>NaN</td>\n      <td>NaN</td>\n      <td>0.636692</td>\n      <td>85.0</td>\n      <td>0.467141</td>\n      <td>82.5</td>\n      <td>0.589060</td>\n      <td>100.0</td>\n      <td>0.085769</td>\n      <td>100.0</td>\n    </tr>\n    <tr>\n      <th>UCG.MI</th>\n      <td>Unicredit</td>\n      <td>bank</td>\n      <td>34.799999</td>\n      <td>90.625</td>\n      <td>NaN</td>\n      <td>NaN</td>\n      <td>0.844784</td>\n      <td>97.5</td>\n      <td>0.546323</td>\n      <td>95.0</td>\n      <td>0.316188</td>\n      <td>90.0</td>\n      <td>0.027458</td>\n      <td>80.0</td>\n    </tr>\n    <tr>\n      <th>BPE.MI</th>\n      <td>Bper Banca</td>\n      <td>bank</td>\n      <td>4.374000</td>\n      <td>87.500</td>\n      <td>NaN</td>\n      <td>NaN</td>\n      <td>0.667556</td>\n      <td>87.5</td>\n      <td>0.487755</td>\n      <td>87.5</td>\n      <td>0.315885</td>\n      <td>87.5</td>\n      <td>0.037969</td>\n      <td>87.5</td>\n    </tr>\n    <tr>\n      <th>LDO.MI</th>\n      <td>Leonardo</td>\n      <td>industrial</td>\n      <td>21.639999</td>\n      <td>84.375</td>\n      <td>NaN</td>\n      <td>NaN</td>\n      <td>0.975039</td>\n      <td>100.0</td>\n      <td>0.545714</td>\n      <td>92.5</td>\n      <td>0.316302</td>\n      <td>92.5</td>\n      <td>-0.021257</td>\n      <td>52.5</td>\n    </tr>\n    <tr>\n      <th>BAMI.MI</th>\n      <td>Banco Bpm</td>\n      <td>bank</td>\n      <td>6.314000</td>\n      <td>81.250</td>\n      <td>NaN</td>\n      <td>NaN</td>\n      <td>0.542257</td>\n      <td>80.0</td>\n      <td>0.326749</td>\n      <td>62.5</td>\n      <td>0.288571</td>\n      <td>85.0</td>\n      <td>0.062605</td>\n      <td>97.5</td>\n    </tr>\n    <tr>\n      <th>BMPS.MI</th>\n      <td>Banca Monte Paschi Siena</td>\n      <td>bank</td>\n      <td>4.114000</td>\n      <td>75.625</td>\n      <td>NaN</td>\n      <td>NaN</td>\n      <td>0.841540</td>\n      <td>95.0</td>\n      <td>0.664913</td>\n      <td>100.0</td>\n      <td>0.269753</td>\n      <td>80.0</td>\n      <td>-0.045033</td>\n      <td>27.5</td>\n    </tr>\n    <tr>\n      <th>PRY.MI</th>\n      <td>Prysmian</td>\n      <td>industrial</td>\n      <td>50.020000</td>\n      <td>75.000</td>\n      <td>NaN</td>\n      <td>NaN</td>\n      <td>0.340300</td>\n      <td>65.0</td>\n      <td>0.424665</td>\n      <td>80.0</td>\n      <td>0.246449</td>\n      <td>77.5</td>\n      <td>0.026683</td>\n      <td>77.5</td>\n    </tr>\n    <tr>\n      <th>BPSO.MI</th>\n      <td>Banca Pop Sondrio</td>\n      <td>bank</td>\n      <td>7.035000</td>\n      <td>73.750</td>\n      <td>NaN</td>\n      <td>NaN</td>\n      <td>0.764416</td>\n      <td>92.5</td>\n      <td>0.367347</td>\n      <td>77.5</td>\n      <td>0.102665</td>\n      <td>52.5</td>\n      <td>0.020305</td>\n      <td>72.5</td>\n    </tr>\n    <tr>\n      <th>ISP.MI</th>\n      <td>Intesa Sanpaolo</td>\n      <td>bank</td>\n      <td>3.318500</td>\n      <td>72.500</td>\n      <td>NaN</td>\n      <td>NaN</td>\n      <td>0.452895</td>\n      <td>70.0</td>\n      <td>0.476462</td>\n      <td>85.0</td>\n      <td>0.204319</td>\n      <td>67.5</td>\n      <td>0.012973</td>\n      <td>67.5</td>\n    </tr>\n    <tr>\n      <th>PIRC.MI</th>\n      <td>Pirelli &amp; C</td>\n      <td>automobiles</td>\n      <td>5.830000</td>\n      <td>70.625</td>\n      <td>NaN</td>\n      <td>NaN</td>\n      <td>0.316011</td>\n      <td>62.5</td>\n      <td>0.337156</td>\n      <td>67.5</td>\n      <td>0.140454</td>\n      <td>60.0</td>\n      <td>0.044429</td>\n      <td>92.5</td>\n    </tr>\n    <tr>\n      <th>IVG.MI</th>\n      <td>Iveco Group</td>\n      <td>industrial</td>\n      <td>12.520000</td>\n      <td>67.500</td>\n      <td>NaN</td>\n      <td>NaN</td>\n      <td>0.498683</td>\n      <td>75.0</td>\n      <td>0.499761</td>\n      <td>90.0</td>\n      <td>0.394209</td>\n      <td>95.0</td>\n      <td>-0.070527</td>\n      <td>10.0</td>\n    </tr>\n    <tr>\n      <th>RACE.MI</th>\n      <td>Ferrari</td>\n      <td>automobiles</td>\n      <td>387.700012</td>\n      <td>66.250</td>\n      <td>NaN</td>\n      <td>NaN</td>\n      <td>0.523379</td>\n      <td>77.5</td>\n      <td>0.359874</td>\n      <td>72.5</td>\n      <td>0.213459</td>\n      <td>70.0</td>\n      <td>-0.026857</td>\n      <td>45.0</td>\n    </tr>\n    <tr>\n      <th>MB.MI</th>\n      <td>Mediobanca</td>\n      <td>financial_services</td>\n      <td>13.575000</td>\n      <td>66.250</td>\n      <td>NaN</td>\n      <td>NaN</td>\n      <td>0.495212</td>\n      <td>72.5</td>\n      <td>0.302952</td>\n      <td>60.0</td>\n      <td>0.129838</td>\n      <td>57.5</td>\n      <td>0.022599</td>\n      <td>75.0</td>\n    </tr>\n    <tr>\n      <th>TEN.MI</th>\n      <td>Tenaris</td>\n      <td>energy</td>\n      <td>17.750000</td>\n      <td>61.250</td>\n      <td>NaN</td>\n      <td>NaN</td>\n      <td>0.386515</td>\n      <td>67.5</td>\n      <td>0.150691</td>\n      <td>42.5</td>\n      <td>0.230076</td>\n      <td>75.0</td>\n      <td>-0.011417</td>\n      <td>60.0</td>\n    </tr>\n    <tr>\n      <th>BMED.MI</th>\n      <td>Banca Mediolanum</td>\n      <td>financial_services</td>\n      <td>10.110000</td>\n      <td>57.500</td>\n      <td>NaN</td>\n      <td>NaN</td>\n      <td>0.247656</td>\n      <td>52.5</td>\n      <td>0.340063</td>\n      <td>70.0</td>\n      <td>0.087331</td>\n      <td>50.0</td>\n      <td>-0.014620</td>\n      <td>57.5</td>\n    </tr>\n    <tr>\n      <th>PST.MI</th>\n      <td>Poste Italiane</td>\n      <td>insurance</td>\n      <td>11.620000</td>\n      <td>56.250</td>\n      <td>NaN</td>\n      <td>NaN</td>\n      <td>0.292094</td>\n      <td>60.0</td>\n      <td>0.249449</td>\n      <td>55.0</td>\n      <td>0.149926</td>\n      <td>62.5</td>\n      <td>-0.025985</td>\n      <td>47.5</td>\n    </tr>\n    <tr>\n      <th>STLAM.MI</th>\n      <td>Stellantis</td>\n      <td>automobiles</td>\n      <td>24.139999</td>\n      <td>56.250</td>\n      <td>NaN</td>\n      <td>NaN</td>\n      <td>0.616013</td>\n      <td>82.5</td>\n      <td>0.334734</td>\n      <td>65.0</td>\n      <td>0.227250</td>\n      <td>72.5</td>\n      <td>-0.092822</td>\n      <td>5.0</td>\n    </tr>\n    <tr>\n      <th>FBK.MI</th>\n      <td>Finecobank</td>\n      <td>bank</td>\n      <td>13.775000</td>\n      <td>53.125</td>\n      <td>NaN</td>\n      <td>NaN</td>\n      <td>0.010147</td>\n      <td>35.0</td>\n      <td>0.253412</td>\n      <td>57.5</td>\n      <td>-0.003617</td>\n      <td>35.0</td>\n      <td>0.029907</td>\n      <td>85.0</td>\n    </tr>\n    <tr>\n      <th>G.MI</th>\n      <td>Generali</td>\n      <td>insurance</td>\n      <td>22.570000</td>\n      <td>53.125</td>\n      <td>NaN</td>\n      <td>NaN</td>\n      <td>0.256187</td>\n      <td>55.0</td>\n      <td>0.214747</td>\n      <td>47.5</td>\n      <td>0.110182</td>\n      <td>55.0</td>\n      <td>-0.016558</td>\n      <td>55.0</td>\n    </tr>\n  </tbody>\n</table>\n</div>"
     },
     "metadata": {},
     "output_type": "display_data"
    },
    {
     "name": "stderr",
     "output_type": "stream",
     "text": [
      "[*********************100%%**********************]  20 of 20 completed\n"
     ]
    }
   ],
   "source": [
    "portfolio = data.sort_values(by='momentum score', ascending=False).iloc[:20]\n",
    "display(portfolio)\n",
    "portfolio_data = yf.download(list(portfolio.index))"
   ],
   "metadata": {
    "collapsed": false,
    "ExecuteTime": {
     "end_time": "2024-04-18T14:13:16.797570Z",
     "start_time": "2024-04-18T14:13:13.563498Z"
    }
   },
   "id": "df3d58255c7d2804",
   "execution_count": 78
  },
  {
   "cell_type": "code",
   "outputs": [],
   "source": [
    "def get_number_of_shares_to_buy(date: str | pd.Timestamp, capital: float, portfolio_data: pd.DataFrame):\n",
    "    n_stocks = len(portfolio_data[\"Close\"].columns)\n",
    "    return  ((capital / n_stocks) / portfolio_data[\"Close\"].loc[date:].iloc[0]) // 1 "
   ],
   "metadata": {
    "collapsed": false,
    "ExecuteTime": {
     "end_time": "2024-04-18T14:13:16.812569Z",
     "start_time": "2024-04-18T14:13:16.801574Z"
    }
   },
   "id": "4e68b64e11774fc9",
   "execution_count": 79
  },
  {
   "cell_type": "code",
   "outputs": [],
   "source": [
    "portfolio['number of shares to buy'] = get_number_of_shares_to_buy(portfolio_data.index[-1], STARTING_CAPITAL, portfolio_data)\n",
    "portfolio['stock position'] = portfolio['last close price'] * portfolio['number of shares to buy']"
   ],
   "metadata": {
    "collapsed": false,
    "ExecuteTime": {
     "end_time": "2024-04-18T14:14:56.983528Z",
     "start_time": "2024-04-18T14:14:56.954946Z"
    }
   },
   "id": "d203a2ad5c0139a8",
   "execution_count": 82
  },
  {
   "cell_type": "code",
   "outputs": [
    {
     "data": {
      "text/plain": "                              name              sector  last close price  \\\nticker                                                                     \nUNI.MI                      Unipol           insurance          8.085000   \nSPM.MI                      Saipem              energy          2.266000   \nUCG.MI                   Unicredit                bank         34.799999   \nBPE.MI                  Bper Banca                bank          4.374000   \nLDO.MI                    Leonardo          industrial         21.639999   \nBAMI.MI                  Banco Bpm                bank          6.314000   \nBMPS.MI   Banca Monte Paschi Siena                bank          4.114000   \nPRY.MI                    Prysmian          industrial         50.020000   \nBPSO.MI          Banca Pop Sondrio                bank          7.035000   \nISP.MI             Intesa Sanpaolo                bank          3.318500   \nPIRC.MI                Pirelli & C         automobiles          5.830000   \nIVG.MI                 Iveco Group          industrial         12.520000   \nRACE.MI                    Ferrari         automobiles        387.700012   \nMB.MI                   Mediobanca  financial_services         13.575000   \nTEN.MI                     Tenaris              energy         17.750000   \nBMED.MI           Banca Mediolanum  financial_services         10.110000   \nPST.MI              Poste Italiane           insurance         11.620000   \nSTLAM.MI                Stellantis         automobiles         24.139999   \nFBK.MI                  Finecobank                bank         13.775000   \nG.MI                      Generali           insurance         22.570000   \n\n          momentum score  number of shares to buy  stock position  \\\nticker                                                              \nUNI.MI            95.000                     61.0      493.185002   \nSPM.MI            91.875                    220.0      498.520007   \nUCG.MI            90.625                     14.0      487.199989   \nBPE.MI            87.500                    114.0      498.636008   \nLDO.MI            84.375                     23.0      497.719986   \nBAMI.MI           81.250                     79.0      498.806010   \nBMPS.MI           75.625                    121.0      497.793981   \nPRY.MI            75.000                      9.0      450.180004   \nBPSO.MI           73.750                     71.0      499.484989   \nISP.MI            72.500                    150.0      497.775006   \nPIRC.MI           70.625                     85.0      495.549994   \nIVG.MI            67.500                     39.0      488.280018   \nRACE.MI           66.250                      1.0      387.700012   \nMB.MI             66.250                     36.0      488.699993   \nTEN.MI            61.250                     28.0      497.000000   \nBMED.MI           57.500                     49.0      495.389983   \nPST.MI            56.250                     43.0      499.659995   \nSTLAM.MI          56.250                     20.0      482.799988   \nFBK.MI            53.125                     36.0      495.899986   \nG.MI              53.125                     22.0      496.539993   \n\n          one-year return  one-year percentile score  six-months return  \\\nticker                                                                    \nUNI.MI           0.712450                       90.0           0.566253   \nSPM.MI           0.636692                       85.0           0.467141   \nUCG.MI           0.844784                       97.5           0.546323   \nBPE.MI           0.667556                       87.5           0.487755   \nLDO.MI           0.975039                      100.0           0.545714   \nBAMI.MI          0.542257                       80.0           0.326749   \nBMPS.MI          0.841540                       95.0           0.664913   \nPRY.MI           0.340300                       65.0           0.424665   \nBPSO.MI          0.764416                       92.5           0.367347   \nISP.MI           0.452895                       70.0           0.476462   \nPIRC.MI          0.316011                       62.5           0.337156   \nIVG.MI           0.498683                       75.0           0.499761   \nRACE.MI          0.523379                       77.5           0.359874   \nMB.MI            0.495212                       72.5           0.302952   \nTEN.MI           0.386515                       67.5           0.150691   \nBMED.MI          0.247656                       52.5           0.340063   \nPST.MI           0.292094                       60.0           0.249449   \nSTLAM.MI         0.616013                       82.5           0.334734   \nFBK.MI           0.010147                       35.0           0.253412   \nG.MI             0.256187                       55.0           0.214747   \n\n          six-months percentile score  three-months return  \\\nticker                                                       \nUNI.MI                           97.5             0.482942   \nSPM.MI                           82.5             0.589060   \nUCG.MI                           95.0             0.316188   \nBPE.MI                           87.5             0.315885   \nLDO.MI                           92.5             0.316302   \nBAMI.MI                          62.5             0.288571   \nBMPS.MI                         100.0             0.269753   \nPRY.MI                           80.0             0.246449   \nBPSO.MI                          77.5             0.102665   \nISP.MI                           85.0             0.204319   \nPIRC.MI                          67.5             0.140454   \nIVG.MI                           90.0             0.394209   \nRACE.MI                          72.5             0.213459   \nMB.MI                            60.0             0.129838   \nTEN.MI                           42.5             0.230076   \nBMED.MI                          70.0             0.087331   \nPST.MI                           55.0             0.149926   \nSTLAM.MI                         65.0             0.227250   \nFBK.MI                           57.5            -0.003617   \nG.MI                             47.5             0.110182   \n\n          three-months percentile score  one-month return  \\\nticker                                                      \nUNI.MI                             97.5          0.058800   \nSPM.MI                            100.0          0.085769   \nUCG.MI                             90.0          0.027458   \nBPE.MI                             87.5          0.037969   \nLDO.MI                             92.5         -0.021257   \nBAMI.MI                            85.0          0.062605   \nBMPS.MI                            80.0         -0.045033   \nPRY.MI                             77.5          0.026683   \nBPSO.MI                            52.5          0.020305   \nISP.MI                             67.5          0.012973   \nPIRC.MI                            60.0          0.044429   \nIVG.MI                             95.0         -0.070527   \nRACE.MI                            70.0         -0.026857   \nMB.MI                              57.5          0.022599   \nTEN.MI                             75.0         -0.011417   \nBMED.MI                            50.0         -0.014620   \nPST.MI                             62.5         -0.025985   \nSTLAM.MI                           72.5         -0.092822   \nFBK.MI                             35.0          0.029907   \nG.MI                               55.0         -0.016558   \n\n          one-month percentile score  \nticker                                \nUNI.MI                          95.0  \nSPM.MI                         100.0  \nUCG.MI                          80.0  \nBPE.MI                          87.5  \nLDO.MI                          52.5  \nBAMI.MI                         97.5  \nBMPS.MI                         27.5  \nPRY.MI                          77.5  \nBPSO.MI                         72.5  \nISP.MI                          67.5  \nPIRC.MI                         92.5  \nIVG.MI                          10.0  \nRACE.MI                         45.0  \nMB.MI                           75.0  \nTEN.MI                          60.0  \nBMED.MI                         57.5  \nPST.MI                          47.5  \nSTLAM.MI                         5.0  \nFBK.MI                          85.0  \nG.MI                            55.0  ",
      "text/html": "<div>\n<style scoped>\n    .dataframe tbody tr th:only-of-type {\n        vertical-align: middle;\n    }\n\n    .dataframe tbody tr th {\n        vertical-align: top;\n    }\n\n    .dataframe thead th {\n        text-align: right;\n    }\n</style>\n<table border=\"1\" class=\"dataframe\">\n  <thead>\n    <tr style=\"text-align: right;\">\n      <th></th>\n      <th>name</th>\n      <th>sector</th>\n      <th>last close price</th>\n      <th>momentum score</th>\n      <th>number of shares to buy</th>\n      <th>stock position</th>\n      <th>one-year return</th>\n      <th>one-year percentile score</th>\n      <th>six-months return</th>\n      <th>six-months percentile score</th>\n      <th>three-months return</th>\n      <th>three-months percentile score</th>\n      <th>one-month return</th>\n      <th>one-month percentile score</th>\n    </tr>\n    <tr>\n      <th>ticker</th>\n      <th></th>\n      <th></th>\n      <th></th>\n      <th></th>\n      <th></th>\n      <th></th>\n      <th></th>\n      <th></th>\n      <th></th>\n      <th></th>\n      <th></th>\n      <th></th>\n      <th></th>\n      <th></th>\n    </tr>\n  </thead>\n  <tbody>\n    <tr>\n      <th>UNI.MI</th>\n      <td>Unipol</td>\n      <td>insurance</td>\n      <td>8.085000</td>\n      <td>95.000</td>\n      <td>61.0</td>\n      <td>493.185002</td>\n      <td>0.712450</td>\n      <td>90.0</td>\n      <td>0.566253</td>\n      <td>97.5</td>\n      <td>0.482942</td>\n      <td>97.5</td>\n      <td>0.058800</td>\n      <td>95.0</td>\n    </tr>\n    <tr>\n      <th>SPM.MI</th>\n      <td>Saipem</td>\n      <td>energy</td>\n      <td>2.266000</td>\n      <td>91.875</td>\n      <td>220.0</td>\n      <td>498.520007</td>\n      <td>0.636692</td>\n      <td>85.0</td>\n      <td>0.467141</td>\n      <td>82.5</td>\n      <td>0.589060</td>\n      <td>100.0</td>\n      <td>0.085769</td>\n      <td>100.0</td>\n    </tr>\n    <tr>\n      <th>UCG.MI</th>\n      <td>Unicredit</td>\n      <td>bank</td>\n      <td>34.799999</td>\n      <td>90.625</td>\n      <td>14.0</td>\n      <td>487.199989</td>\n      <td>0.844784</td>\n      <td>97.5</td>\n      <td>0.546323</td>\n      <td>95.0</td>\n      <td>0.316188</td>\n      <td>90.0</td>\n      <td>0.027458</td>\n      <td>80.0</td>\n    </tr>\n    <tr>\n      <th>BPE.MI</th>\n      <td>Bper Banca</td>\n      <td>bank</td>\n      <td>4.374000</td>\n      <td>87.500</td>\n      <td>114.0</td>\n      <td>498.636008</td>\n      <td>0.667556</td>\n      <td>87.5</td>\n      <td>0.487755</td>\n      <td>87.5</td>\n      <td>0.315885</td>\n      <td>87.5</td>\n      <td>0.037969</td>\n      <td>87.5</td>\n    </tr>\n    <tr>\n      <th>LDO.MI</th>\n      <td>Leonardo</td>\n      <td>industrial</td>\n      <td>21.639999</td>\n      <td>84.375</td>\n      <td>23.0</td>\n      <td>497.719986</td>\n      <td>0.975039</td>\n      <td>100.0</td>\n      <td>0.545714</td>\n      <td>92.5</td>\n      <td>0.316302</td>\n      <td>92.5</td>\n      <td>-0.021257</td>\n      <td>52.5</td>\n    </tr>\n    <tr>\n      <th>BAMI.MI</th>\n      <td>Banco Bpm</td>\n      <td>bank</td>\n      <td>6.314000</td>\n      <td>81.250</td>\n      <td>79.0</td>\n      <td>498.806010</td>\n      <td>0.542257</td>\n      <td>80.0</td>\n      <td>0.326749</td>\n      <td>62.5</td>\n      <td>0.288571</td>\n      <td>85.0</td>\n      <td>0.062605</td>\n      <td>97.5</td>\n    </tr>\n    <tr>\n      <th>BMPS.MI</th>\n      <td>Banca Monte Paschi Siena</td>\n      <td>bank</td>\n      <td>4.114000</td>\n      <td>75.625</td>\n      <td>121.0</td>\n      <td>497.793981</td>\n      <td>0.841540</td>\n      <td>95.0</td>\n      <td>0.664913</td>\n      <td>100.0</td>\n      <td>0.269753</td>\n      <td>80.0</td>\n      <td>-0.045033</td>\n      <td>27.5</td>\n    </tr>\n    <tr>\n      <th>PRY.MI</th>\n      <td>Prysmian</td>\n      <td>industrial</td>\n      <td>50.020000</td>\n      <td>75.000</td>\n      <td>9.0</td>\n      <td>450.180004</td>\n      <td>0.340300</td>\n      <td>65.0</td>\n      <td>0.424665</td>\n      <td>80.0</td>\n      <td>0.246449</td>\n      <td>77.5</td>\n      <td>0.026683</td>\n      <td>77.5</td>\n    </tr>\n    <tr>\n      <th>BPSO.MI</th>\n      <td>Banca Pop Sondrio</td>\n      <td>bank</td>\n      <td>7.035000</td>\n      <td>73.750</td>\n      <td>71.0</td>\n      <td>499.484989</td>\n      <td>0.764416</td>\n      <td>92.5</td>\n      <td>0.367347</td>\n      <td>77.5</td>\n      <td>0.102665</td>\n      <td>52.5</td>\n      <td>0.020305</td>\n      <td>72.5</td>\n    </tr>\n    <tr>\n      <th>ISP.MI</th>\n      <td>Intesa Sanpaolo</td>\n      <td>bank</td>\n      <td>3.318500</td>\n      <td>72.500</td>\n      <td>150.0</td>\n      <td>497.775006</td>\n      <td>0.452895</td>\n      <td>70.0</td>\n      <td>0.476462</td>\n      <td>85.0</td>\n      <td>0.204319</td>\n      <td>67.5</td>\n      <td>0.012973</td>\n      <td>67.5</td>\n    </tr>\n    <tr>\n      <th>PIRC.MI</th>\n      <td>Pirelli &amp; C</td>\n      <td>automobiles</td>\n      <td>5.830000</td>\n      <td>70.625</td>\n      <td>85.0</td>\n      <td>495.549994</td>\n      <td>0.316011</td>\n      <td>62.5</td>\n      <td>0.337156</td>\n      <td>67.5</td>\n      <td>0.140454</td>\n      <td>60.0</td>\n      <td>0.044429</td>\n      <td>92.5</td>\n    </tr>\n    <tr>\n      <th>IVG.MI</th>\n      <td>Iveco Group</td>\n      <td>industrial</td>\n      <td>12.520000</td>\n      <td>67.500</td>\n      <td>39.0</td>\n      <td>488.280018</td>\n      <td>0.498683</td>\n      <td>75.0</td>\n      <td>0.499761</td>\n      <td>90.0</td>\n      <td>0.394209</td>\n      <td>95.0</td>\n      <td>-0.070527</td>\n      <td>10.0</td>\n    </tr>\n    <tr>\n      <th>RACE.MI</th>\n      <td>Ferrari</td>\n      <td>automobiles</td>\n      <td>387.700012</td>\n      <td>66.250</td>\n      <td>1.0</td>\n      <td>387.700012</td>\n      <td>0.523379</td>\n      <td>77.5</td>\n      <td>0.359874</td>\n      <td>72.5</td>\n      <td>0.213459</td>\n      <td>70.0</td>\n      <td>-0.026857</td>\n      <td>45.0</td>\n    </tr>\n    <tr>\n      <th>MB.MI</th>\n      <td>Mediobanca</td>\n      <td>financial_services</td>\n      <td>13.575000</td>\n      <td>66.250</td>\n      <td>36.0</td>\n      <td>488.699993</td>\n      <td>0.495212</td>\n      <td>72.5</td>\n      <td>0.302952</td>\n      <td>60.0</td>\n      <td>0.129838</td>\n      <td>57.5</td>\n      <td>0.022599</td>\n      <td>75.0</td>\n    </tr>\n    <tr>\n      <th>TEN.MI</th>\n      <td>Tenaris</td>\n      <td>energy</td>\n      <td>17.750000</td>\n      <td>61.250</td>\n      <td>28.0</td>\n      <td>497.000000</td>\n      <td>0.386515</td>\n      <td>67.5</td>\n      <td>0.150691</td>\n      <td>42.5</td>\n      <td>0.230076</td>\n      <td>75.0</td>\n      <td>-0.011417</td>\n      <td>60.0</td>\n    </tr>\n    <tr>\n      <th>BMED.MI</th>\n      <td>Banca Mediolanum</td>\n      <td>financial_services</td>\n      <td>10.110000</td>\n      <td>57.500</td>\n      <td>49.0</td>\n      <td>495.389983</td>\n      <td>0.247656</td>\n      <td>52.5</td>\n      <td>0.340063</td>\n      <td>70.0</td>\n      <td>0.087331</td>\n      <td>50.0</td>\n      <td>-0.014620</td>\n      <td>57.5</td>\n    </tr>\n    <tr>\n      <th>PST.MI</th>\n      <td>Poste Italiane</td>\n      <td>insurance</td>\n      <td>11.620000</td>\n      <td>56.250</td>\n      <td>43.0</td>\n      <td>499.659995</td>\n      <td>0.292094</td>\n      <td>60.0</td>\n      <td>0.249449</td>\n      <td>55.0</td>\n      <td>0.149926</td>\n      <td>62.5</td>\n      <td>-0.025985</td>\n      <td>47.5</td>\n    </tr>\n    <tr>\n      <th>STLAM.MI</th>\n      <td>Stellantis</td>\n      <td>automobiles</td>\n      <td>24.139999</td>\n      <td>56.250</td>\n      <td>20.0</td>\n      <td>482.799988</td>\n      <td>0.616013</td>\n      <td>82.5</td>\n      <td>0.334734</td>\n      <td>65.0</td>\n      <td>0.227250</td>\n      <td>72.5</td>\n      <td>-0.092822</td>\n      <td>5.0</td>\n    </tr>\n    <tr>\n      <th>FBK.MI</th>\n      <td>Finecobank</td>\n      <td>bank</td>\n      <td>13.775000</td>\n      <td>53.125</td>\n      <td>36.0</td>\n      <td>495.899986</td>\n      <td>0.010147</td>\n      <td>35.0</td>\n      <td>0.253412</td>\n      <td>57.5</td>\n      <td>-0.003617</td>\n      <td>35.0</td>\n      <td>0.029907</td>\n      <td>85.0</td>\n    </tr>\n    <tr>\n      <th>G.MI</th>\n      <td>Generali</td>\n      <td>insurance</td>\n      <td>22.570000</td>\n      <td>53.125</td>\n      <td>22.0</td>\n      <td>496.539993</td>\n      <td>0.256187</td>\n      <td>55.0</td>\n      <td>0.214747</td>\n      <td>47.5</td>\n      <td>0.110182</td>\n      <td>55.0</td>\n      <td>-0.016558</td>\n      <td>55.0</td>\n    </tr>\n  </tbody>\n</table>\n</div>"
     },
     "metadata": {},
     "output_type": "display_data"
    }
   ],
   "source": [
    "display(portfolio)"
   ],
   "metadata": {
    "collapsed": false,
    "ExecuteTime": {
     "end_time": "2024-04-18T14:14:57.556198Z",
     "start_time": "2024-04-18T14:14:57.509783Z"
    }
   },
   "id": "1178e73cdeca9c17",
   "execution_count": 83
  },
  {
   "cell_type": "markdown",
   "source": [
    "# Strategy simulation from 2018"
   ],
   "metadata": {
    "collapsed": false
   },
   "id": "9cc5f926c42dceb1"
  },
  {
   "cell_type": "code",
   "outputs": [],
   "source": [],
   "metadata": {
    "collapsed": false
   },
   "id": "ef839af86744283f"
  }
 ],
 "metadata": {
  "kernelspec": {
   "display_name": "Python 3",
   "language": "python",
   "name": "python3"
  },
  "language_info": {
   "codemirror_mode": {
    "name": "ipython",
    "version": 2
   },
   "file_extension": ".py",
   "mimetype": "text/x-python",
   "name": "python",
   "nbconvert_exporter": "python",
   "pygments_lexer": "ipython2",
   "version": "2.7.6"
  }
 },
 "nbformat": 4,
 "nbformat_minor": 5
}
